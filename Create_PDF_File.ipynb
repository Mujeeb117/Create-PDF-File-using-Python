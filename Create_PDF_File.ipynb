{
  "nbformat": 4,
  "nbformat_minor": 0,
  "metadata": {
    "colab": {
      "provenance": []
    },
    "kernelspec": {
      "name": "python3",
      "display_name": "Python 3"
    },
    "language_info": {
      "name": "python"
    }
  },
  "cells": [
    {
      "cell_type": "markdown",
      "source": [
        "# **Create PDF File using Python**"
      ],
      "metadata": {
        "id": "0kjHdWinxqMX"
      }
    },
    {
      "cell_type": "code",
      "execution_count": 1,
      "metadata": {
        "colab": {
          "base_uri": "https://localhost:8080/"
        },
        "id": "VTiiSbD5wyJE",
        "outputId": "a604ef70-ca8d-406f-d59e-70b8c051a509"
      },
      "outputs": [
        {
          "output_type": "stream",
          "name": "stdout",
          "text": [
            "Collecting reportlab\n",
            "  Downloading reportlab-4.2.2-py3-none-any.whl.metadata (1.4 kB)\n",
            "Requirement already satisfied: pillow>=9.0.0 in /usr/local/lib/python3.10/dist-packages (from reportlab) (9.4.0)\n",
            "Requirement already satisfied: chardet in /usr/local/lib/python3.10/dist-packages (from reportlab) (5.2.0)\n",
            "Downloading reportlab-4.2.2-py3-none-any.whl (1.9 MB)\n",
            "\u001b[2K   \u001b[90m━━━━━━━━━━━━━━━━━━━━━━━━━━━━━━━━━━━━━━━━\u001b[0m \u001b[32m1.9/1.9 MB\u001b[0m \u001b[31m13.3 MB/s\u001b[0m eta \u001b[36m0:00:00\u001b[0m\n",
            "\u001b[?25hInstalling collected packages: reportlab\n",
            "Successfully installed reportlab-4.2.2\n"
          ]
        }
      ],
      "source": [
        "! pip install reportlab"
      ]
    },
    {
      "cell_type": "code",
      "source": [
        "from reportlab.pdfgen import canvas"
      ],
      "metadata": {
        "id": "qPUn-ynSw2tk"
      },
      "execution_count": 6,
      "outputs": []
    },
    {
      "cell_type": "code",
      "source": [
        "#create a new pdf file\n",
        "pdf_file= canvas.Canvas('example.pdf')"
      ],
      "metadata": {
        "id": "pLZU7WPjxGVA"
      },
      "execution_count": 7,
      "outputs": []
    },
    {
      "cell_type": "code",
      "source": [
        "#add text to PDF file\n",
        "pdf_file.drawString(100,750,'Hello World')\n",
        "pdf_file.drawString(100,700,'This is a PDF file')\n",
        "pdf_file.drawString(100,650,'create by  Mujeeb Ur Rehman')"
      ],
      "metadata": {
        "id": "4IRdfPnoxQD8"
      },
      "execution_count": 8,
      "outputs": []
    },
    {
      "cell_type": "code",
      "source": [
        "pdf_file.save()"
      ],
      "metadata": {
        "id": "8dI6Lkb9xVPI"
      },
      "execution_count": 9,
      "outputs": []
    },
    {
      "cell_type": "code",
      "source": [],
      "metadata": {
        "id": "psHN96oTxW-y"
      },
      "execution_count": 9,
      "outputs": []
    }
  ]
}